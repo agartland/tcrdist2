{
 "cells": [
  {
   "cell_type": "code",
   "execution_count": 1,
   "metadata": {},
   "outputs": [],
   "source": [
    "import numpy as np\n",
    "import pandas as pd\n",
    "import scipy.spatial\n",
    "import scipy.cluster.hierarchy as sch\n",
    "from IPython.core.display import SVG, HTML\n",
    "import operator"
   ]
  },
  {
   "cell_type": "code",
   "execution_count": 2,
   "metadata": {},
   "outputs": [
    {
     "name": "stderr",
     "output_type": "stream",
     "text": [
      "/home/agartlan/anaconda3/envs/py3/lib/python3.6/site-packages/statsmodels/tools/_testing.py:19: FutureWarning: pandas.util.testing is deprecated. Use the functions in the public API at pandas.testing instead.\n",
      "  import pandas.util.testing as tm\n"
     ]
    },
    {
     "name": "stdout",
     "output_type": "stream",
     "text": [
      "Using Cython-powered Fisher's exact test\n"
     ]
    }
   ],
   "source": [
    "import sys\n",
    "from os.path import join as opj\n",
    "from fg_shared import _git\n",
    "\n",
    "sys.path.append(opj(_git, 'tcrdist2'))\n",
    "from tcrdist.repertoire import TCRrep\n",
    "\n",
    "sys.path.append(opj(_git, 'hierdiff'))\n",
    "import hierdiff\n",
    "\n",
    "sys.path.append(opj(_git, 'pwseqdist'))\n",
    "import pwseqdist as pwsd\n",
    "\n",
    "sys.path.append(opj(_git, 'seqlogo'))\n",
    "import seqlogo"
   ]
  },
  {
   "cell_type": "code",
   "execution_count": 3,
   "metadata": {},
   "outputs": [
    {
     "ename": "NameError",
     "evalue": "name 'tcrdist2_df' is not defined",
     "output_type": "error",
     "traceback": [
      "\u001b[0;31m---------------------------------------------------------------------------\u001b[0m",
      "\u001b[0;31mNameError\u001b[0m                                 Traceback (most recent call last)",
      "\u001b[0;32m<ipython-input-3-daa7997f5639>\u001b[0m in \u001b[0;36m<module>\u001b[0;34m\u001b[0m\n\u001b[1;32m      1\u001b[0m \u001b[0mdf\u001b[0m \u001b[0;34m=\u001b[0m \u001b[0mpd\u001b[0m\u001b[0;34m.\u001b[0m\u001b[0mread_csv\u001b[0m\u001b[0;34m(\u001b[0m\u001b[0mopj\u001b[0m\u001b[0;34m(\u001b[0m\u001b[0m_git\u001b[0m\u001b[0;34m,\u001b[0m \u001b[0;34m'hierdiff'\u001b[0m\u001b[0;34m,\u001b[0m \u001b[0;34m'dash.csv'\u001b[0m\u001b[0;34m)\u001b[0m\u001b[0;34m)\u001b[0m\u001b[0;34m\u001b[0m\u001b[0;34m\u001b[0m\u001b[0m\n\u001b[0;32m----> 2\u001b[0;31m \u001b[0mdf\u001b[0m \u001b[0;34m=\u001b[0m \u001b[0mtcrdist2_df\u001b[0m\u001b[0;34m[\u001b[0m\u001b[0mdf\u001b[0m\u001b[0;34m.\u001b[0m\u001b[0mepitope\u001b[0m\u001b[0;34m.\u001b[0m\u001b[0misin\u001b[0m\u001b[0;34m(\u001b[0m\u001b[0;34m[\u001b[0m\u001b[0;34m'PB1'\u001b[0m\u001b[0;34m,\u001b[0m \u001b[0;34m'NP'\u001b[0m\u001b[0;34m]\u001b[0m\u001b[0;34m)\u001b[0m\u001b[0;34m]\u001b[0m\u001b[0;34m\u001b[0m\u001b[0;34m\u001b[0m\u001b[0m\n\u001b[0m\u001b[1;32m      3\u001b[0m \u001b[0;34m\u001b[0m\u001b[0m\n\u001b[1;32m      4\u001b[0m \u001b[0;31m#2 create instance of TCRrep class, initializes input as tr.cell_df attribute\u001b[0m\u001b[0;34m\u001b[0m\u001b[0;34m\u001b[0m\u001b[0;34m\u001b[0m\u001b[0m\n\u001b[1;32m      5\u001b[0m \u001b[0mtr\u001b[0m \u001b[0;34m=\u001b[0m \u001b[0mTCRrep\u001b[0m\u001b[0;34m(\u001b[0m\u001b[0mcell_df\u001b[0m\u001b[0;34m=\u001b[0m\u001b[0mdf\u001b[0m\u001b[0;34m,\u001b[0m \u001b[0mchains\u001b[0m\u001b[0;34m=\u001b[0m\u001b[0;34m[\u001b[0m\u001b[0;34m'beta'\u001b[0m\u001b[0;34m]\u001b[0m\u001b[0;34m,\u001b[0m \u001b[0morganism\u001b[0m\u001b[0;34m=\u001b[0m\u001b[0;34m'human'\u001b[0m\u001b[0;34m)\u001b[0m\u001b[0;34m\u001b[0m\u001b[0;34m\u001b[0m\u001b[0m\n",
      "\u001b[0;31mNameError\u001b[0m: name 'tcrdist2_df' is not defined"
     ]
    }
   ],
   "source": [
    "df = pd.read_csv(opj(_git, 'hierdiff', 'dash.csv'))\n",
    "df = tcrdist2_df[df.epitope.isin(['PB1', 'NP'])]\n",
    "\n",
    "#2 create instance of TCRrep class, initializes input as tr.cell_df attribute\n",
    "tr = TCRrep(cell_df=df, chains=['beta'], organism='human')\n",
    "\n",
    "#3 Infer CDR1,CDR2,CDR2.5 (a.k.a. phmc) from germline v-genes\n",
    "tr.infer_cdrs_from_v_gene(chain='beta',  imgt_aligned=True)\n",
    "\n",
    "#4 Define index columns for determining unique clones.\n",
    "tr.index_cols = ['clone_id', 'subject', 'epitope',\n",
    "                 'v_b_gene', 'j_b_gene',\n",
    "                'cdr3_b_aa', 'cdr1_b_aa', 'cdr2_b_aa', 'pmhc_b_aa',\n",
    "                'cdr3_b_nucseq']\n",
    "\n",
    "#4 Deduplicate based on index cols, creating tr.clone_df attribute\n",
    "tr.deduplicate()\n",
    "pw = tr.compute_pairwise_all('beta', metric='nw', processes=3)"
   ]
  },
  {
   "cell_type": "code",
   "execution_count": null,
   "metadata": {},
   "outputs": [],
   "source": [
    "res = hierdiff.neighborhood_diff(tr.clone_df,\n",
    "                          pwmat=tr.cdr3_b_aa_pw,\n",
    "                          x_cols=['epitope'],\n",
    "                          count_col=None,\n",
    "                          test='fishers',\n",
    "                          knn_neighbors=100, knn_radius=None)\n",
    "res = tr.clone_df.join(res)\n",
    "res = res.sort_values(by='OR', ascending=False)\n",
    "res[['epitope', 'v_b_gene', 'j_b_gene', 'cdr3_b_aa', 'x_val_1', 'x_freq_1', 'x_freq_0', 'OR', 'FWERp']]"
   ]
  },
  {
   "cell_type": "code",
   "execution_count": null,
   "metadata": {},
   "outputs": [],
   "source": [
    "ind = 172\n",
    "motif = seqlogo.compute_pal_motif(res.loc[ind, 'cdr3_b_aa'],\n",
    "                        seqs=res.loc[res.loc[ind, 'neighbors'], 'cdr3_b_aa'],\n",
    "                         refs=res.loc[[i for i in res.index if not i in res.loc[ind, 'neighbors']], 'cdr3_b_aa'])\n",
    "html = seqlogo.svg_logo(motif, return_html=True)\n",
    "HTML(data=html)"
   ]
  },
  {
   "cell_type": "code",
   "execution_count": null,
   "metadata": {},
   "outputs": [],
   "source": [
    "ind = 203\n",
    "motif = seqlogo.compute_pal_motif(res.loc[ind, 'cdr3_b_aa'],\n",
    "                        seqs=res.loc[res.loc[ind, 'neighbors'], 'cdr3_b_aa'],\n",
    "                         refs=res.loc[[i for i in res.index if not i in res.loc[ind, 'neighbors']], 'cdr3_b_aa'])\n",
    "html = seqlogo.svg_logo(motif, return_html=True)\n",
    "HTML(data=html)"
   ]
  },
  {
   "cell_type": "code",
   "execution_count": null,
   "metadata": {},
   "outputs": [],
   "source": [
    "hdiff_res, Z = hierdiff.hcluster_diff(tr.clone_df,\n",
    "                          pwmat=tr.cdr3_b_aa_pw,\n",
    "                          x_cols=['epitope'],\n",
    "                          count_col=None,\n",
    "                          test='fishers',\n",
    "                          method='ward')\n",
    "\n",
    "summ_df = hierdiff.member_summ(res_df=hdiff_res, clone_df=tr.clone_df, summ_within=False)\n",
    "hdiff_res = hdiff_res.join(summ_df)\n",
    "hdiff_res = hdiff_res.sort_values(by='pvalue')"
   ]
  }
 ],
 "metadata": {
  "kernelspec": {
   "display_name": "Python 3",
   "language": "python",
   "name": "python3"
  },
  "language_info": {
   "codemirror_mode": {
    "name": "ipython",
    "version": 3
   },
   "file_extension": ".py",
   "mimetype": "text/x-python",
   "name": "python",
   "nbconvert_exporter": "python",
   "pygments_lexer": "ipython3",
   "version": "3.6.10"
  }
 },
 "nbformat": 4,
 "nbformat_minor": 4
}
